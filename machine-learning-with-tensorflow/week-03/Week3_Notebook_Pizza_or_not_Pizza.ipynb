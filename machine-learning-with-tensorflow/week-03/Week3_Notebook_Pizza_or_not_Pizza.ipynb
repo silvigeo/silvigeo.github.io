{
  "cells": [
    {
      "cell_type": "markdown",
      "metadata": {
        "id": "BkszdVuz1z-G"
      },
      "source": [
        "# Task 1\n",
        "\n",
        "Download the dataset \"Pizza or not Pizza\" from Kaggle.com.\n",
        "https://www.kaggle.com/datasets/carlosrunner/pizza-not-pizza/data\n",
        "\n",
        "# Task 2\n",
        "\n",
        "Place the `pizza_not_pizza` folder in your Colab-Environment. (On the same level as this notebook)\n",
        "```\n",
        "|\n",
        "|-- pizza_not_pizza\n",
        "|   |-- pizza\n",
        "|   `-- not_pizza\n",
        "`-- Assignment_CNN-Part-1.ipynb\n",
        "```\n",
        "# Task 3\n",
        "\n",
        "Set up a data generator and use it to build a training and a test dataset. This can be done by using the `flow_from_directory` function of the data generator. Checkout the documentation for details:\n",
        "https://www.tensorflow.org/api_docs/python/tf/keras/preprocessing/image/ImageDataGenerator\n",
        "\n",
        "In order to confirm wether you set up the data correctly try fitting the model provided below. If you get an output from the `fit` function everything is fine.\n",
        "\n",
        "Tips:\n",
        "- Remember to rescale the pixel values\n",
        "- Set the size of the test dataset to 0.2 of the original dataset size.\n",
        "- Be sure to use the constants defined at the beginning of this notebook.\n",
        "\n",
        "# Task 4\n",
        "\n",
        "Add three augmentation options to the data generator. For each one think about why it might makes sense to use this augmentation technique here. Can you improve the validation accuracy?"
      ]
    },
    {
      "cell_type": "code",
      "execution_count": null,
      "metadata": {
        "id": "K1KgQgt61z-I"
      },
      "outputs": [],
      "source": [
        "import tensorflow as tf\n",
        "from keras.preprocessing.image import ImageDataGenerator\n",
        "import matplotlib.pyplot as plt"
      ]
    },
    {
      "cell_type": "code",
      "execution_count": null,
      "metadata": {
        "id": "JnfNEy6L1z-J"
      },
      "outputs": [],
      "source": [
        "DATA_DIR = \"pizza_not_pizza\"\n",
        "BATCH_SIZE = 64\n",
        "IMAGE_HEIGHT = 180\n",
        "IMAGE_WIDTH = 180"
      ]
    },
    {
      "cell_type": "code",
      "execution_count": null,
      "metadata": {
        "id": "UUhhV47t1z-K"
      },
      "outputs": [],
      "source": [
        "# Start code here ==>\n",
        "data_generator =\n",
        "\n",
        "train_images =\n",
        "\n",
        "test_images =\n",
        "\n",
        "# End code here <==\n",
        "\n",
        "# Expected output: (Your numbers of images might be different.)\n",
        "# Found 1574 images belonging to 2 classes.\n",
        "# Found 392 images belonging to 2 classes."
      ]
    },
    {
      "cell_type": "code",
      "execution_count": null,
      "metadata": {
        "id": "0W5sd73D1z-L"
      },
      "outputs": [],
      "source": [
        "model = tf.keras.Sequential([\n",
        "    tf.keras.layers.Conv2D(32, (3,3), activation=\"relu\", input_shape=(IMAGE_HEIGHT, IMAGE_WIDTH, 3)),\n",
        "    tf.keras.layers.Conv2D(32, (3,3), activation=\"relu\"),\n",
        "    tf.keras.layers.Flatten(),\n",
        "    tf.keras.layers.Dense(1, activation=\"sigmoid\"),\n",
        "])"
      ]
    },
    {
      "cell_type": "code",
      "execution_count": null,
      "metadata": {
        "id": "a1zWaaeg1z-M"
      },
      "outputs": [],
      "source": [
        "model.compile(optimizer=\"adam\",\n",
        "              loss=tf.keras.losses.BinaryCrossentropy(),\n",
        "              metrics=['accuracy'])\n",
        "\n",
        "history = model.fit(train_images,\n",
        "                    validation_data=test_images,\n",
        "                    epochs=3)"
      ]
    },
    {
      "cell_type": "code",
      "execution_count": null,
      "metadata": {
        "id": "e1dYBAHS1z-N"
      },
      "outputs": [],
      "source": [
        "plt.plot(history.history['accuracy'], label='accuracy')\n",
        "plt.plot(history.history['val_accuracy'], label = 'val_accuracy')\n",
        "plt.xlabel('Epoch')\n",
        "plt.ylabel('Accuracy')\n",
        "plt.ylim([0.5, 1])\n",
        "plt.legend(loc='lower right')\n",
        "\n",
        "test_loss, test_acc = model.evaluate(test_images, verbose=2)"
      ]
    }
  ],
  "metadata": {
    "kernelspec": {
      "display_name": "toolbox",
      "language": "python",
      "name": "python3"
    },
    "language_info": {
      "codemirror_mode": {
        "name": "ipython",
        "version": 3
      },
      "file_extension": ".py",
      "mimetype": "text/x-python",
      "name": "python",
      "nbconvert_exporter": "python",
      "pygments_lexer": "ipython3",
      "version": "3.10.4"
    },
    "colab": {
      "provenance": []
    }
  },
  "nbformat": 4,
  "nbformat_minor": 0
}